{
 "cells": [
  {
   "cell_type": "code",
   "execution_count": 5,
   "id": "d6674652",
   "metadata": {},
   "outputs": [
    {
     "name": "stderr",
     "output_type": "stream",
     "text": [
      "C:\\Users\\nikhi\\AppData\\Local\\Temp\\ipykernel_36736\\131507634.py:7: FutureWarning: Starting with pandas version 3.0 all arguments of to_excel except for the argument 'excel_writer' will be keyword-only.\n",
      "  pivot_table.to_excel(r'C:\\Users\\nikhi\\Downloads\\pivot_table.xlsx', \"report\", startrow=4)\n"
     ]
    }
   ],
   "source": [
    "import pandas as pd\n",
    "\n",
    "df=pd.read_excel(r'C:\\Users\\nikhi\\Downloads\\supermarket_sales.xlsx')\n",
    "df=df[['Gender', 'Product line', 'Total']]\n",
    "\n",
    "pivot_table=df.pivot_table(index='Gender', columns='Product line', values='Total', aggfunc='sum').round(2)\n",
    "pivot_table.to_excel(r'C:\\Users\\nikhi\\Downloads\\pivot_table.xlsx', \"report\", startrow=4)\n"
   ]
  },
  {
   "cell_type": "code",
   "execution_count": 19,
   "id": "9cc8e593",
   "metadata": {},
   "outputs": [],
   "source": [
    "from openpyxl import load_workbook\n",
    "from openpyxl.chart import BarChart, Reference\n",
    "\n",
    "wb= load_workbook(r'C:\\Users\\nikhi\\Downloads\\pivot_table.xlsx')\n",
    "\n",
    "sheet= wb['report']\n",
    "\n",
    "min_column=wb.active.min_column\n",
    "max_column=wb.active.max_column\n",
    "min_row=wb.active.min_row\n",
    "max_row=wb.active.max_row\n",
    "\n",
    "Bar_Chart=BarChart()\n",
    "\n",
    "data= Reference(sheet, min_col=min_column+1, max_col=max_column, min_row=min_row, max_row=max_row)\n",
    "Categories= Reference(sheet, min_col=min_column, max_col=min_column, min_row=min_row+1, max_row=max_row)\n",
    "\n",
    "Bar_Chart.add_data(data, titles_from_data=True)\n",
    "Bar_Chart.set_categories(Categories)\n",
    "sheet.add_chart(Bar_Chart,'B12')\n",
    "\n",
    "Bar_Chart.title=\"sales by product line\"\n",
    "Bar_Chart.style=5\n",
    "\n",
    "wb.save(r'C:\\Users\\nikhi\\Downloads\\bar_chart.xlsx')"
   ]
  },
  {
   "cell_type": "code",
   "execution_count": null,
   "id": "1ffcaa9e",
   "metadata": {},
   "outputs": [],
   "source": []
  }
 ],
 "metadata": {
  "kernelspec": {
   "display_name": "Python (.venv)",
   "language": "python",
   "name": "venv"
  },
  "language_info": {
   "codemirror_mode": {
    "name": "ipython",
    "version": 3
   },
   "file_extension": ".py",
   "mimetype": "text/x-python",
   "name": "python",
   "nbconvert_exporter": "python",
   "pygments_lexer": "ipython3",
   "version": "3.13.5"
  }
 },
 "nbformat": 4,
 "nbformat_minor": 5
}
