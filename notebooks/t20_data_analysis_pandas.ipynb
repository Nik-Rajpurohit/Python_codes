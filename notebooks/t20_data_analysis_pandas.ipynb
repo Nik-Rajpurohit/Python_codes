{
 "cells": [
  {
   "cell_type": "markdown",
   "id": "2923a724",
   "metadata": {},
   "source": [
    "<h1 align=\"center\"> T20 World Cup Cricket Data Pre Processing </h1>\n"
   ]
  },
  {
   "cell_type": "code",
   "execution_count": 3,
   "id": "d4e194b1",
   "metadata": {},
   "outputs": [],
   "source": [
    "import zipfile\n",
    "import os\n",
    "import json\n",
    "import pandas as pd"
   ]
  },
  {
   "cell_type": "markdown",
   "id": "057a5c2b",
   "metadata": {},
   "source": [
    "<h4 style=\"color:blue\">(1) Process Match Results</h4>\n"
   ]
  },
  {
   "cell_type": "code",
   "execution_count": 4,
   "id": "c6f51873",
   "metadata": {},
   "outputs": [
    {
     "name": "stdout",
     "output_type": "stream",
     "text": [
      "files extracted to: 2\n"
     ]
    }
   ],
   "source": [
    "zippath=r'C:\\Users\\nikhi\\Downloads\\t20_json_files.zip'\n",
    "\n",
    "path=r'C:\\Users\\nikhi\\Downloads\\t20_json'\n",
    "\n",
    "os.makedirs(path, exist_ok=True)\n",
    "\n",
    "with zipfile.ZipFile( zippath, 'r') as f:\n",
    "    f.extractall(path=path)\n",
    "\n",
    "print(f'files extracted to: {len(os.listdir(path))}')"
   ]
  },
  {
   "cell_type": "code",
   "execution_count": 5,
   "id": "e57022e6",
   "metadata": {},
   "outputs": [],
   "source": [
    "with open(r'C:\\Users\\nikhi\\Downloads\\t20_json\\t20_json_files\\t20_wc_match_results.json') as f:\n",
    "    data=json.load(f)"
   ]
  },
  {
   "cell_type": "code",
   "execution_count": 6,
   "id": "30065fb6",
   "metadata": {},
   "outputs": [],
   "source": [
    "df=pd.DataFrame(data[0]['matchSummary'])"
   ]
  },
  {
   "cell_type": "code",
   "execution_count": 7,
   "id": "dab90ffb",
   "metadata": {},
   "outputs": [],
   "source": [
    "df['matchDate']=pd.to_datetime(df['matchDate'])"
   ]
  },
  {
   "cell_type": "code",
   "execution_count": 8,
   "id": "2b937a1c",
   "metadata": {},
   "outputs": [
    {
     "data": {
      "text/plain": [
       "pandas.core.frame.DataFrame"
      ]
     },
     "execution_count": 8,
     "metadata": {},
     "output_type": "execute_result"
    }
   ],
   "source": [
    "type(df)"
   ]
  },
  {
   "cell_type": "code",
   "execution_count": 9,
   "id": "4b50d354",
   "metadata": {},
   "outputs": [
    {
     "data": {
      "text/plain": [
       "Index(['team1', 'team2', 'winner', 'margin', 'ground', 'matchDate',\n",
       "       'match_id'],\n",
       "      dtype='object')"
      ]
     },
     "execution_count": 9,
     "metadata": {},
     "output_type": "execute_result"
    }
   ],
   "source": [
    "df.rename(columns={'scorecard': 'match_id'}, inplace=True)\n",
    "\n",
    "df.columns\n"
   ]
  },
  {
   "cell_type": "code",
   "execution_count": 10,
   "id": "3d98722d",
   "metadata": {},
   "outputs": [],
   "source": [
    "match_id_dic={}\n",
    "\n",
    "for index,row in df.iterrows():\n",
    "    key1=row['team1'] + ' Vs ' + row['team2']\n",
    "    key2=row['team2'] + ' Vs ' + row['team1']\n",
    "\n",
    "    match_id_dic[key1]=row['match_id']\n",
    "    match_id_dic[key2]=row['match_id']\n",
    "\n"
   ]
  },
  {
   "cell_type": "code",
   "execution_count": 11,
   "id": "c6b79c9a",
   "metadata": {},
   "outputs": [],
   "source": [
    "df.to_csv(r'C:\\Users\\nikhi\\Downloads\\t20_json\\t20_csv_files\\match_summary.csv', index=False)"
   ]
  },
  {
   "cell_type": "markdown",
   "id": "f34ff80f",
   "metadata": {},
   "source": [
    "<h4 style=\"color:blue\">(2) Batting Summary\n"
   ]
  },
  {
   "cell_type": "code",
   "execution_count": 12,
   "id": "e6eb361e",
   "metadata": {},
   "outputs": [],
   "source": [
    "with open(r'C:\\Users\\nikhi\\Downloads\\t20_json\\t20_json_files\\t20_wc_batting_summary.json') as f:\n",
    "    data=json.load(f)\n",
    "    \n",
    "    all_records=[]\n",
    "\n",
    "    for rec in data:\n",
    "        all_records.extend(rec['battingSummary'])\n",
    "\n",
    "df_batting=pd.DataFrame(all_records)"
   ]
  },
  {
   "cell_type": "code",
   "execution_count": 13,
   "id": "f8551283",
   "metadata": {},
   "outputs": [],
   "source": [
    "df_batting['out/not_out']= df_batting['dismissal'].apply( lambda  x:'Out' if len(x)>0 else 'not_out')"
   ]
  },
  {
   "cell_type": "code",
   "execution_count": 14,
   "id": "6c9619ec",
   "metadata": {},
   "outputs": [],
   "source": [
    "df_batting.drop(columns='dismissal', inplace=True)"
   ]
  },
  {
   "cell_type": "code",
   "execution_count": 15,
   "id": "ebc92df5",
   "metadata": {},
   "outputs": [],
   "source": [
    "df_batting['batsmanName'] = df_batting['batsmanName'].apply(lambda x: x.replace('â€', ''))\n",
    "df_batting['batsmanName'] = df_batting['batsmanName'].apply(lambda x: x.replace('\\xa0', ''))"
   ]
  },
  {
   "cell_type": "code",
   "execution_count": 16,
   "id": "f0d0d260",
   "metadata": {},
   "outputs": [
    {
     "data": {
      "text/plain": [
       "'T20I # 1823'"
      ]
     },
     "execution_count": 16,
     "metadata": {},
     "output_type": "execute_result"
    }
   ],
   "source": [
    "match_id_dic['Namibia Vs Sri Lanka']"
   ]
  },
  {
   "cell_type": "code",
   "execution_count": 17,
   "id": "71538e68",
   "metadata": {},
   "outputs": [],
   "source": [
    "df_batting['match_id']=df_batting['match'].map(match_id_dic)"
   ]
  },
  {
   "cell_type": "code",
   "execution_count": 18,
   "id": "9ae1ada9",
   "metadata": {},
   "outputs": [],
   "source": [
    "df_batting.to_csv(r'C:\\Users\\nikhi\\Downloads\\t20_json\\t20_csv_files\\Batting_summary.csv', index=False)"
   ]
  },
  {
   "cell_type": "markdown",
   "id": "6b5f1ad1",
   "metadata": {},
   "source": [
    "<h4 style=\"color:Blue\">(3) Bowling Summary</h4>"
   ]
  },
  {
   "cell_type": "code",
   "execution_count": 19,
   "id": "b165f817",
   "metadata": {},
   "outputs": [],
   "source": [
    "with open(r'C:\\Users\\nikhi\\Downloads\\t20_json\\t20_json_files\\t20_wc_bowling_summary.json') as f:\n",
    "    data=json.load(f)\n",
    "    all_records=[]\n",
    "    for rec in data:\n",
    "        all_records.extend(rec['bowlingSummary'])"
   ]
  },
  {
   "cell_type": "code",
   "execution_count": 20,
   "id": "c1b6c124",
   "metadata": {},
   "outputs": [],
   "source": [
    "df_bowling=pd.DataFrame(all_records)"
   ]
  },
  {
   "cell_type": "code",
   "execution_count": 21,
   "id": "85b87101",
   "metadata": {},
   "outputs": [],
   "source": [
    "df_bowling['match_id']= df_bowling['match'].map(match_id_dic)"
   ]
  },
  {
   "cell_type": "code",
   "execution_count": 22,
   "id": "61594be1",
   "metadata": {},
   "outputs": [],
   "source": [
    "df_bowling.to_csv(r'C:\\Users\\nikhi\\Downloads\\t20_json\\t20_csv_files\\Bowling_summary.csv', index=False)"
   ]
  },
  {
   "cell_type": "markdown",
   "id": "c0b6a72d",
   "metadata": {},
   "source": [
    "<h4 style=\"color:blue\">(4) Process Player Information</h4>"
   ]
  },
  {
   "cell_type": "code",
   "execution_count": 23,
   "id": "8d510b96",
   "metadata": {},
   "outputs": [],
   "source": [
    "with open(r'C:\\Users\\nikhi\\Downloads\\t20_json\\t20_json_files\\t20_wc_player_info.json') as f:\n",
    "    data=json.load(f)"
   ]
  },
  {
   "cell_type": "code",
   "execution_count": 24,
   "id": "ad9cf62e",
   "metadata": {},
   "outputs": [],
   "source": [
    "df_players= pd.DataFrame(data)"
   ]
  },
  {
   "cell_type": "code",
   "execution_count": 25,
   "id": "19bef18c",
   "metadata": {},
   "outputs": [],
   "source": [
    "df_players['name'] = df_players['name'].apply(lambda x: x.replace('â€', ''))\n",
    "df_players['name'] = df_players['name'].apply(lambda x: x.replace('†', ''))\n",
    "df_players['name'] = df_players['name'].apply(lambda x: x.replace('\\xa0', ''))"
   ]
  },
  {
   "cell_type": "code",
   "execution_count": 26,
   "id": "635c098b",
   "metadata": {},
   "outputs": [
    {
     "data": {
      "text/html": [
       "<div>\n",
       "<style scoped>\n",
       "    .dataframe tbody tr th:only-of-type {\n",
       "        vertical-align: middle;\n",
       "    }\n",
       "\n",
       "    .dataframe tbody tr th {\n",
       "        vertical-align: top;\n",
       "    }\n",
       "\n",
       "    .dataframe thead th {\n",
       "        text-align: right;\n",
       "    }\n",
       "</style>\n",
       "<table border=\"1\" class=\"dataframe\">\n",
       "  <thead>\n",
       "    <tr style=\"text-align: right;\">\n",
       "      <th></th>\n",
       "      <th>name</th>\n",
       "      <th>team</th>\n",
       "      <th>battingStyle</th>\n",
       "      <th>bowlingStyle</th>\n",
       "      <th>playingRole</th>\n",
       "      <th>description</th>\n",
       "    </tr>\n",
       "  </thead>\n",
       "  <tbody>\n",
       "    <tr>\n",
       "      <th>214</th>\n",
       "      <td>Tabraiz Shamsi</td>\n",
       "      <td>South Africa</td>\n",
       "      <td>Right hand Bat</td>\n",
       "      <td>Left arm Wrist spin</td>\n",
       "      <td>Bowler</td>\n",
       "      <td>A left-arm wristspin bowler with ample variati...</td>\n",
       "    </tr>\n",
       "    <tr>\n",
       "      <th>215</th>\n",
       "      <td>Phil Salt</td>\n",
       "      <td>England</td>\n",
       "      <td>Right hand Bat</td>\n",
       "      <td>Right arm Offbreak</td>\n",
       "      <td>Wicketkeeper Batter</td>\n",
       "      <td>Phil Salt's fearless ball-striking at the top ...</td>\n",
       "    </tr>\n",
       "    <tr>\n",
       "      <th>216</th>\n",
       "      <td>Chris Jordan</td>\n",
       "      <td>England</td>\n",
       "      <td>Right hand Bat</td>\n",
       "      <td>Right arm Fast medium</td>\n",
       "      <td>Bowler</td>\n",
       "      <td>Chris Jordan, a fast bowler with a level-heade...</td>\n",
       "    </tr>\n",
       "    <tr>\n",
       "      <th>217</th>\n",
       "      <td>Regis Chakabva(c)</td>\n",
       "      <td>Zimbabwe</td>\n",
       "      <td>Right hand Bat</td>\n",
       "      <td>Right arm Offbreak</td>\n",
       "      <td>Wicketkeeper Batter</td>\n",
       "      <td>A doughty wicketkeeper-batsman, Regis Chakabva...</td>\n",
       "    </tr>\n",
       "    <tr>\n",
       "      <th>218</th>\n",
       "      <td>Mehidy Hasan Miraz</td>\n",
       "      <td>Bangladesh</td>\n",
       "      <td>Right hand Bat</td>\n",
       "      <td>Right arm Offbreak</td>\n",
       "      <td>Allrounder</td>\n",
       "      <td>Mehedi Hasan Miraz has emerged as one of the b...</td>\n",
       "    </tr>\n",
       "  </tbody>\n",
       "</table>\n",
       "</div>"
      ],
      "text/plain": [
       "                   name          team    battingStyle           bowlingStyle  \\\n",
       "214      Tabraiz Shamsi  South Africa  Right hand Bat    Left arm Wrist spin   \n",
       "215           Phil Salt       England  Right hand Bat     Right arm Offbreak   \n",
       "216        Chris Jordan       England  Right hand Bat  Right arm Fast medium   \n",
       "217   Regis Chakabva(c)      Zimbabwe  Right hand Bat     Right arm Offbreak   \n",
       "218  Mehidy Hasan Miraz    Bangladesh  Right hand Bat     Right arm Offbreak   \n",
       "\n",
       "             playingRole                                        description  \n",
       "214               Bowler  A left-arm wristspin bowler with ample variati...  \n",
       "215  Wicketkeeper Batter  Phil Salt's fearless ball-striking at the top ...  \n",
       "216               Bowler  Chris Jordan, a fast bowler with a level-heade...  \n",
       "217  Wicketkeeper Batter  A doughty wicketkeeper-batsman, Regis Chakabva...  \n",
       "218           Allrounder  Mehedi Hasan Miraz has emerged as one of the b...  "
      ]
     },
     "execution_count": 26,
     "metadata": {},
     "output_type": "execute_result"
    }
   ],
   "source": [
    "df_players.tail()"
   ]
  },
  {
   "cell_type": "code",
   "execution_count": 27,
   "id": "5ff02fcb",
   "metadata": {},
   "outputs": [],
   "source": [
    "df_players.to_csv(r'C:\\Users\\nikhi\\Downloads\\t20_json\\t20_csv_files\\Players_info.csv', index=False)"
   ]
  },
  {
   "cell_type": "code",
   "execution_count": 29,
   "id": "e4278dcb",
   "metadata": {},
   "outputs": [
    {
     "data": {
      "text/plain": [
       "(699, 11)"
      ]
     },
     "execution_count": 29,
     "metadata": {},
     "output_type": "execute_result"
    }
   ],
   "source": [
    "df_batting.shape"
   ]
  },
  {
   "cell_type": "code",
   "execution_count": 30,
   "id": "51889b06",
   "metadata": {},
   "outputs": [
    {
     "data": {
      "text/html": [
       "<div>\n",
       "<style scoped>\n",
       "    .dataframe tbody tr th:only-of-type {\n",
       "        vertical-align: middle;\n",
       "    }\n",
       "\n",
       "    .dataframe tbody tr th {\n",
       "        vertical-align: top;\n",
       "    }\n",
       "\n",
       "    .dataframe thead th {\n",
       "        text-align: right;\n",
       "    }\n",
       "</style>\n",
       "<table border=\"1\" class=\"dataframe\">\n",
       "  <thead>\n",
       "    <tr style=\"text-align: right;\">\n",
       "      <th></th>\n",
       "      <th>name</th>\n",
       "      <th>team</th>\n",
       "      <th>battingStyle</th>\n",
       "      <th>bowlingStyle</th>\n",
       "      <th>playingRole</th>\n",
       "      <th>description</th>\n",
       "    </tr>\n",
       "  </thead>\n",
       "  <tbody>\n",
       "    <tr>\n",
       "      <th>0</th>\n",
       "      <td>Michael van Lingen</td>\n",
       "      <td>Namibia</td>\n",
       "      <td>Left hand Bat</td>\n",
       "      <td>Left arm Medium</td>\n",
       "      <td>Bowling Allrounder</td>\n",
       "      <td></td>\n",
       "    </tr>\n",
       "    <tr>\n",
       "      <th>1</th>\n",
       "      <td>Divan la Cock</td>\n",
       "      <td>Namibia</td>\n",
       "      <td>Right hand Bat</td>\n",
       "      <td>Legbreak</td>\n",
       "      <td>Opening Batter</td>\n",
       "      <td></td>\n",
       "    </tr>\n",
       "    <tr>\n",
       "      <th>2</th>\n",
       "      <td>Jan Nicol Loftie-Eaton</td>\n",
       "      <td>Namibia</td>\n",
       "      <td>Left hand Bat</td>\n",
       "      <td>Right arm Medium, Legbreak</td>\n",
       "      <td>Batter</td>\n",
       "      <td></td>\n",
       "    </tr>\n",
       "    <tr>\n",
       "      <th>3</th>\n",
       "      <td>Stephan Baard</td>\n",
       "      <td>Namibia</td>\n",
       "      <td>Right hand Bat</td>\n",
       "      <td>Right arm Medium fast</td>\n",
       "      <td>Batter</td>\n",
       "      <td></td>\n",
       "    </tr>\n",
       "    <tr>\n",
       "      <th>4</th>\n",
       "      <td>Gerhard Erasmus(c)</td>\n",
       "      <td>Namibia</td>\n",
       "      <td>Right hand Bat</td>\n",
       "      <td>Right arm Offbreak</td>\n",
       "      <td>Allrounder</td>\n",
       "      <td></td>\n",
       "    </tr>\n",
       "    <tr>\n",
       "      <th>...</th>\n",
       "      <td>...</td>\n",
       "      <td>...</td>\n",
       "      <td>...</td>\n",
       "      <td>...</td>\n",
       "      <td>...</td>\n",
       "      <td>...</td>\n",
       "    </tr>\n",
       "    <tr>\n",
       "      <th>214</th>\n",
       "      <td>Tabraiz Shamsi</td>\n",
       "      <td>South Africa</td>\n",
       "      <td>Right hand Bat</td>\n",
       "      <td>Left arm Wrist spin</td>\n",
       "      <td>Bowler</td>\n",
       "      <td>A left-arm wristspin bowler with ample variati...</td>\n",
       "    </tr>\n",
       "    <tr>\n",
       "      <th>215</th>\n",
       "      <td>Phil Salt</td>\n",
       "      <td>England</td>\n",
       "      <td>Right hand Bat</td>\n",
       "      <td>Right arm Offbreak</td>\n",
       "      <td>Wicketkeeper Batter</td>\n",
       "      <td>Phil Salt's fearless ball-striking at the top ...</td>\n",
       "    </tr>\n",
       "    <tr>\n",
       "      <th>216</th>\n",
       "      <td>Chris Jordan</td>\n",
       "      <td>England</td>\n",
       "      <td>Right hand Bat</td>\n",
       "      <td>Right arm Fast medium</td>\n",
       "      <td>Bowler</td>\n",
       "      <td>Chris Jordan, a fast bowler with a level-heade...</td>\n",
       "    </tr>\n",
       "    <tr>\n",
       "      <th>217</th>\n",
       "      <td>Regis Chakabva(c)</td>\n",
       "      <td>Zimbabwe</td>\n",
       "      <td>Right hand Bat</td>\n",
       "      <td>Right arm Offbreak</td>\n",
       "      <td>Wicketkeeper Batter</td>\n",
       "      <td>A doughty wicketkeeper-batsman, Regis Chakabva...</td>\n",
       "    </tr>\n",
       "    <tr>\n",
       "      <th>218</th>\n",
       "      <td>Mehidy Hasan Miraz</td>\n",
       "      <td>Bangladesh</td>\n",
       "      <td>Right hand Bat</td>\n",
       "      <td>Right arm Offbreak</td>\n",
       "      <td>Allrounder</td>\n",
       "      <td>Mehedi Hasan Miraz has emerged as one of the b...</td>\n",
       "    </tr>\n",
       "  </tbody>\n",
       "</table>\n",
       "<p>219 rows × 6 columns</p>\n",
       "</div>"
      ],
      "text/plain": [
       "                       name          team    battingStyle  \\\n",
       "0        Michael van Lingen       Namibia   Left hand Bat   \n",
       "1             Divan la Cock       Namibia  Right hand Bat   \n",
       "2    Jan Nicol Loftie-Eaton       Namibia   Left hand Bat   \n",
       "3             Stephan Baard       Namibia  Right hand Bat   \n",
       "4        Gerhard Erasmus(c)       Namibia  Right hand Bat   \n",
       "..                      ...           ...             ...   \n",
       "214          Tabraiz Shamsi  South Africa  Right hand Bat   \n",
       "215               Phil Salt       England  Right hand Bat   \n",
       "216            Chris Jordan       England  Right hand Bat   \n",
       "217       Regis Chakabva(c)      Zimbabwe  Right hand Bat   \n",
       "218      Mehidy Hasan Miraz    Bangladesh  Right hand Bat   \n",
       "\n",
       "                   bowlingStyle          playingRole  \\\n",
       "0               Left arm Medium   Bowling Allrounder   \n",
       "1                      Legbreak       Opening Batter   \n",
       "2    Right arm Medium, Legbreak               Batter   \n",
       "3         Right arm Medium fast               Batter   \n",
       "4            Right arm Offbreak           Allrounder   \n",
       "..                          ...                  ...   \n",
       "214         Left arm Wrist spin               Bowler   \n",
       "215          Right arm Offbreak  Wicketkeeper Batter   \n",
       "216       Right arm Fast medium               Bowler   \n",
       "217          Right arm Offbreak  Wicketkeeper Batter   \n",
       "218          Right arm Offbreak           Allrounder   \n",
       "\n",
       "                                           description  \n",
       "0                                                       \n",
       "1                                                       \n",
       "2                                                       \n",
       "3                                                       \n",
       "4                                                       \n",
       "..                                                 ...  \n",
       "214  A left-arm wristspin bowler with ample variati...  \n",
       "215  Phil Salt's fearless ball-striking at the top ...  \n",
       "216  Chris Jordan, a fast bowler with a level-heade...  \n",
       "217  A doughty wicketkeeper-batsman, Regis Chakabva...  \n",
       "218  Mehedi Hasan Miraz has emerged as one of the b...  \n",
       "\n",
       "[219 rows x 6 columns]"
      ]
     },
     "execution_count": 30,
     "metadata": {},
     "output_type": "execute_result"
    }
   ],
   "source": [
    "df_players"
   ]
  },
  {
   "cell_type": "code",
   "execution_count": 31,
   "id": "65782306",
   "metadata": {},
   "outputs": [
    {
     "ename": "SyntaxError",
     "evalue": "invalid syntax (307108596.py, line 1)",
     "output_type": "error",
     "traceback": [
      "  \u001b[36mCell\u001b[39m\u001b[36m \u001b[39m\u001b[32mIn[31]\u001b[39m\u001b[32m, line 1\u001b[39m\n\u001b[31m    \u001b[39m\u001b[31muse salesdb\u001b[39m\n        ^\n\u001b[31mSyntaxError\u001b[39m\u001b[31m:\u001b[39m invalid syntax\n"
     ]
    }
   ],
   "source": [
    "use salesdb\n"
   ]
  },
  {
   "cell_type": "code",
   "execution_count": null,
   "id": "9b2b43a2",
   "metadata": {},
   "outputs": [],
   "source": []
  }
 ],
 "metadata": {
  "kernelspec": {
   "display_name": "Python (.venv)",
   "language": "python",
   "name": "venv"
  },
  "language_info": {
   "codemirror_mode": {
    "name": "ipython",
    "version": 3
   },
   "file_extension": ".py",
   "mimetype": "text/x-python",
   "name": "python",
   "nbconvert_exporter": "python",
   "pygments_lexer": "ipython3",
   "version": "3.13.5"
  }
 },
 "nbformat": 4,
 "nbformat_minor": 5
}
