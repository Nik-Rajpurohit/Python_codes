{
 "cells": [
  {
   "cell_type": "code",
   "execution_count": 31,
   "id": "7e2a49aa",
   "metadata": {},
   "outputs": [],
   "source": [
    "import camelot\n",
    "import pandas as pd\n"
   ]
  },
  {
   "cell_type": "code",
   "execution_count": 32,
   "id": "62d1b2fd",
   "metadata": {},
   "outputs": [],
   "source": [
    "tables=camelot.read_pdf(r'C:\\Users\\nikhi\\Downloads\\foo.pdf', pages='1')"
   ]
  },
  {
   "cell_type": "code",
   "execution_count": 36,
   "id": "ab0a3b8f",
   "metadata": {},
   "outputs": [],
   "source": [
    "tables.export(r'C:\\Users\\nikhi\\Downloads\\foo.csv', f='csv', compress=True)\n",
    "tables[0].to_csv(r'C:\\Users\\nikhi\\Downloads\\foo.csv')\n"
   ]
  },
  {
   "cell_type": "code",
   "execution_count": null,
   "id": "75046548",
   "metadata": {},
   "outputs": [],
   "source": []
  }
 ],
 "metadata": {
  "kernelspec": {
   "display_name": "Python (.venv)",
   "language": "python",
   "name": "venv"
  },
  "language_info": {
   "codemirror_mode": {
    "name": "ipython",
    "version": 3
   },
   "file_extension": ".py",
   "mimetype": "text/x-python",
   "name": "python",
   "nbconvert_exporter": "python",
   "pygments_lexer": "ipython3",
   "version": "3.13.5"
  }
 },
 "nbformat": 4,
 "nbformat_minor": 5
}
