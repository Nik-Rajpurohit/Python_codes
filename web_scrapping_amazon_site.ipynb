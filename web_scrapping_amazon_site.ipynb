{
 "cells": [
  {
   "cell_type": "code",
   "execution_count": 6,
   "id": "6183550b",
   "metadata": {},
   "outputs": [],
   "source": [
    "from bs4 import BeautifulSoup\n",
    "import requests\n",
    "import datetime\n",
    "import time\n",
    "import smtplib\n"
   ]
  },
  {
   "cell_type": "code",
   "execution_count": 29,
   "id": "7a8313c3",
   "metadata": {},
   "outputs": [],
   "source": [
    "import csv\n",
    "import os\n",
    "desktop = os.path.join(os.path.join(os.environ[\"USERPROFILE\"]), \"OneDrive\", \"Desktop\")\n",
    "file_path = os.path.join(desktop, \"amazonwebscrapping.csv\")\n",
    "\n",
    "headers=['Title', 'Price','Date']\n",
    "\n",
    "Data=[title, price, today]\n",
    "\n",
    "with open(file_path, 'w', newline='', encoding='UTF8') as f:\n",
    "    writer=csv.writer(f)\n",
    "    writer.writerow(headers)\n",
    "    writer.writerow(Data)\n",
    "\n"
   ]
  },
  {
   "cell_type": "code",
   "execution_count": 33,
   "id": "22adfc15",
   "metadata": {},
   "outputs": [
    {
     "data": {
      "text/html": [
       "<div>\n",
       "<style scoped>\n",
       "    .dataframe tbody tr th:only-of-type {\n",
       "        vertical-align: middle;\n",
       "    }\n",
       "\n",
       "    .dataframe tbody tr th {\n",
       "        vertical-align: top;\n",
       "    }\n",
       "\n",
       "    .dataframe thead th {\n",
       "        text-align: right;\n",
       "    }\n",
       "</style>\n",
       "<table border=\"1\" class=\"dataframe\">\n",
       "  <thead>\n",
       "    <tr style=\"text-align: right;\">\n",
       "      <th></th>\n",
       "      <th>Title</th>\n",
       "      <th>Price</th>\n",
       "      <th>Date</th>\n",
       "    </tr>\n",
       "  </thead>\n",
       "  <tbody>\n",
       "    <tr>\n",
       "      <th>0</th>\n",
       "      <td>Amazon Brand - Symbol Men's Cotton Rich Solid ...</td>\n",
       "      <td>349</td>\n",
       "      <td>2025-08-06</td>\n",
       "    </tr>\n",
       "  </tbody>\n",
       "</table>\n",
       "</div>"
      ],
      "text/plain": [
       "                                               Title  Price        Date\n",
       "0  Amazon Brand - Symbol Men's Cotton Rich Solid ...    349  2025-08-06"
      ]
     },
     "execution_count": 33,
     "metadata": {},
     "output_type": "execute_result"
    }
   ],
   "source": [
    "import pandas as pd\n",
    "\n",
    "df=pd.read_csv(r'C:\\Users\\nikhi\\OneDrive\\Desktop\\amazonwebscrapping.csv')\n",
    "df"
   ]
  },
  {
   "cell_type": "code",
   "execution_count": null,
   "id": "5e94ce4c",
   "metadata": {},
   "outputs": [],
   "source": [
    "def check_price():\n",
    "    url='https://www.amazon.in/Amazon-Brand-Symbol-Polo_SS19PLS2_Fog-Teal_Small/dp/B07MZG82PV/ref=sr_1_1_sspa?crid=3LTFXMVT729G3&dib=eyJ2IjoiMSJ9.QmdYXoHQ2MaiiVTNFUuhy_U48j0HpUbFDWW7PrELe2YHXBAPXDIQvfhHhs3s1VlyMgYppl1-sxFrWT32sjxVWVNEtzMlWeQnx7m4MjTNEmef7sQceDrsk1y67j65RwIQ5bRUQo9WI7ctXT_0Gb8h15x9DizwgqZJWEe4BITcPyCmIgKukC1kQdTNa2x-Y2YzHOFnOIDP6M7t5N0etscrSBAuAkIY2-Hzv6kgDqhFWEwDxI6fBcq91VKBytDkKFa0OebAcjguWybD2v5295tPd7ZVTzwgTJPKvJGIqwqz0eQ.CYCSZqHYMr7LtOgikEIkEtOm4K8G2nTHoaXzam2iwG4&dib_tag=se&keywords=t-shirt+for+man&qid=1754441489&sprefix=t-shir%2Caps%2C203&sr=8-1-spons&sp_csd=d2lkZ2V0TmFtZT1zcF9hdGY&psc=1'\n",
    "\n",
    "    headers={\"User-Agent\": \"Mozilla/5.0 (Windows NT 10.0; Win64; x64) AppleWebKit/537.36 (KHTML, like Gecko) Chrome/138.0.0.0 Safari/537.36\"}\n",
    "\n",
    "    page= requests.get(url=url, headers=headers)\n",
    "\n",
    "    soup1=BeautifulSoup(page.content, 'html.parser')\n",
    "\n",
    "    soup2=BeautifulSoup(soup1.prettify(), 'html.parser')\n",
    "\n",
    "    title=soup2.find(id=\"productTitle\").get_text()\n",
    "\n",
    "    price=soup2.find(class_=\"a-price-whole\").get_text()\n",
    "\n",
    "    price=price.strip()\n",
    "    title=title.strip()\n",
    "\n",
    "    today=datetime.date.today()\n",
    "\n",
    "    import csv\n",
    "    import os\n",
    "    desktop = os.path.join(os.path.join(os.environ[\"USERPROFILE\"]), \"OneDrive\", \"Desktop\")\n",
    "    file_path = os.path.join(desktop, \"amazonwebscrapping.csv\")\n",
    "\n",
    "    headers=['Title', 'Price','Date']\n",
    "\n",
    "    Data=[title, price, today]\n",
    "\n",
    "    with open(file_path, 'a+', newline='', encoding='UTF8') as f:\n",
    "        writer=csv.writer(f)\n",
    "        writer.writerow(Data)\n",
    "\n",
    "\n"
   ]
  },
  {
   "cell_type": "code",
   "execution_count": 35,
   "id": "23668d71",
   "metadata": {},
   "outputs": [
    {
     "ename": "KeyboardInterrupt",
     "evalue": "",
     "output_type": "error",
     "traceback": [
      "\u001b[31m---------------------------------------------------------------------------\u001b[39m",
      "\u001b[31mKeyboardInterrupt\u001b[39m                         Traceback (most recent call last)",
      "\u001b[36mCell\u001b[39m\u001b[36m \u001b[39m\u001b[32mIn[35]\u001b[39m\u001b[32m, line 3\u001b[39m\n\u001b[32m      1\u001b[39m \u001b[38;5;28;01mwhile\u001b[39;00m \u001b[38;5;28;01mTrue\u001b[39;00m:\n\u001b[32m      2\u001b[39m     check_price()\n\u001b[32m----> \u001b[39m\u001b[32m3\u001b[39m     \u001b[43mtime\u001b[49m\u001b[43m.\u001b[49m\u001b[43msleep\u001b[49m\u001b[43m(\u001b[49m\u001b[32;43m5\u001b[39;49m\u001b[43m)\u001b[49m\n",
      "\u001b[31mKeyboardInterrupt\u001b[39m: "
     ]
    }
   ],
   "source": [
    "while True:\n",
    "    check_price()\n",
    "    time.sleep(5)\n",
    "    "
   ]
  },
  {
   "cell_type": "code",
   "execution_count": 36,
   "id": "7d9394e1",
   "metadata": {},
   "outputs": [
    {
     "data": {
      "text/html": [
       "<div>\n",
       "<style scoped>\n",
       "    .dataframe tbody tr th:only-of-type {\n",
       "        vertical-align: middle;\n",
       "    }\n",
       "\n",
       "    .dataframe tbody tr th {\n",
       "        vertical-align: top;\n",
       "    }\n",
       "\n",
       "    .dataframe thead th {\n",
       "        text-align: right;\n",
       "    }\n",
       "</style>\n",
       "<table border=\"1\" class=\"dataframe\">\n",
       "  <thead>\n",
       "    <tr style=\"text-align: right;\">\n",
       "      <th></th>\n",
       "      <th>Title</th>\n",
       "      <th>Price</th>\n",
       "      <th>Date</th>\n",
       "    </tr>\n",
       "  </thead>\n",
       "  <tbody>\n",
       "    <tr>\n",
       "      <th>0</th>\n",
       "      <td>Amazon Brand - Symbol Men's Cotton Rich Solid ...</td>\n",
       "      <td>349</td>\n",
       "      <td>2025-08-06</td>\n",
       "    </tr>\n",
       "    <tr>\n",
       "      <th>1</th>\n",
       "      <td>Amazon Brand - Symbol Men's Cotton Rich Solid ...</td>\n",
       "      <td>349</td>\n",
       "      <td>2025-08-06</td>\n",
       "    </tr>\n",
       "    <tr>\n",
       "      <th>2</th>\n",
       "      <td>Amazon Brand - Symbol Men's Cotton Rich Solid ...</td>\n",
       "      <td>349</td>\n",
       "      <td>2025-08-06</td>\n",
       "    </tr>\n",
       "    <tr>\n",
       "      <th>3</th>\n",
       "      <td>Amazon Brand - Symbol Men's Cotton Rich Solid ...</td>\n",
       "      <td>349</td>\n",
       "      <td>2025-08-06</td>\n",
       "    </tr>\n",
       "    <tr>\n",
       "      <th>4</th>\n",
       "      <td>Amazon Brand - Symbol Men's Cotton Rich Solid ...</td>\n",
       "      <td>349</td>\n",
       "      <td>2025-08-06</td>\n",
       "    </tr>\n",
       "    <tr>\n",
       "      <th>5</th>\n",
       "      <td>Amazon Brand - Symbol Men's Cotton Rich Solid ...</td>\n",
       "      <td>349</td>\n",
       "      <td>2025-08-06</td>\n",
       "    </tr>\n",
       "    <tr>\n",
       "      <th>6</th>\n",
       "      <td>Amazon Brand - Symbol Men's Cotton Rich Solid ...</td>\n",
       "      <td>349</td>\n",
       "      <td>2025-08-06</td>\n",
       "    </tr>\n",
       "    <tr>\n",
       "      <th>7</th>\n",
       "      <td>Amazon Brand - Symbol Men's Cotton Rich Solid ...</td>\n",
       "      <td>349</td>\n",
       "      <td>2025-08-06</td>\n",
       "    </tr>\n",
       "  </tbody>\n",
       "</table>\n",
       "</div>"
      ],
      "text/plain": [
       "                                               Title  Price        Date\n",
       "0  Amazon Brand - Symbol Men's Cotton Rich Solid ...    349  2025-08-06\n",
       "1  Amazon Brand - Symbol Men's Cotton Rich Solid ...    349  2025-08-06\n",
       "2  Amazon Brand - Symbol Men's Cotton Rich Solid ...    349  2025-08-06\n",
       "3  Amazon Brand - Symbol Men's Cotton Rich Solid ...    349  2025-08-06\n",
       "4  Amazon Brand - Symbol Men's Cotton Rich Solid ...    349  2025-08-06\n",
       "5  Amazon Brand - Symbol Men's Cotton Rich Solid ...    349  2025-08-06\n",
       "6  Amazon Brand - Symbol Men's Cotton Rich Solid ...    349  2025-08-06\n",
       "7  Amazon Brand - Symbol Men's Cotton Rich Solid ...    349  2025-08-06"
      ]
     },
     "execution_count": 36,
     "metadata": {},
     "output_type": "execute_result"
    }
   ],
   "source": [
    "import pandas as pd\n",
    "\n",
    "df=pd.read_csv(r'C:\\Users\\nikhi\\OneDrive\\Desktop\\amazonwebscrapping.csv')\n",
    "df"
   ]
  },
  {
   "cell_type": "code",
   "execution_count": null,
   "id": "de3a7e50",
   "metadata": {},
   "outputs": [],
   "source": []
  }
 ],
 "metadata": {
  "kernelspec": {
   "display_name": "Python (.venv)",
   "language": "python",
   "name": "venv"
  },
  "language_info": {
   "codemirror_mode": {
    "name": "ipython",
    "version": 3
   },
   "file_extension": ".py",
   "mimetype": "text/x-python",
   "name": "python",
   "nbconvert_exporter": "python",
   "pygments_lexer": "ipython3",
   "version": "3.13.5"
  }
 },
 "nbformat": 4,
 "nbformat_minor": 5
}
